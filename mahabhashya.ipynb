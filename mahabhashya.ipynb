{
 "cells": [
  {
   "cell_type": "code",
   "execution_count": null,
   "metadata": {
    "collapsed": true
   },
   "outputs": [],
   "source": [
    "import numpy as np\n",
    "from keras.models import Sequential\n",
    "from keras import layers"
   ]
  },
  {
   "cell_type": "code",
   "execution_count": null,
   "metadata": {
    "collapsed": true
   },
   "outputs": [],
   "source": [
    "import pandas as pd"
   ]
  },
  {
   "cell_type": "code",
   "execution_count": null,
   "metadata": {
    "collapsed": true
   },
   "outputs": [],
   "source": [
    "a=\"I am a disco dancer, zindegi mera gaana, tu jhumo tu nacho ai mere sang nache ayyyy .    I am a disco dancer, zindegi mera gaana, tu jhumo tu nacho ai mere sang nache ayyyy.   I am a disco dancer, zindegi mera gaana, tu jhumo tu nacho ai mere sang nache ayyyy... I am a disco dancer, zindegi mera gaana, tu jhumo tu nacho ai mere sang nache ayyyy .I am a disco dancer, zindegi mera gaana, tu jhumo tu nacho ai mere sang nache ayyyy\""
   ]
  },
  {
   "cell_type": "code",
   "execution_count": null,
   "metadata": {
    "collapsed": true
   },
   "outputs": [],
   "source": [
    "e=open(\"/Users/souvicchakraborty/Desktop/allprojects/panch.txt\",\"r\")\n",
    "a=e.read()\n",
    "e.close()"
   ]
  },
  {
   "cell_type": "code",
   "execution_count": null,
   "metadata": {
    "collapsed": true
   },
   "outputs": [],
   "source": []
  },
  {
   "cell_type": "code",
   "execution_count": null,
   "metadata": {
    "collapsed": true
   },
   "outputs": [],
   "source": [
    "a=a.lower();a=' '.join(a.split())"
   ]
  },
  {
   "cell_type": "code",
   "execution_count": null,
   "metadata": {
    "collapsed": true
   },
   "outputs": [],
   "source": []
  },
  {
   "cell_type": "code",
   "execution_count": null,
   "metadata": {
    "collapsed": true
   },
   "outputs": [],
   "source": [
    "x=[g for g in a]"
   ]
  },
  {
   "cell_type": "code",
   "execution_count": null,
   "metadata": {},
   "outputs": [],
   "source": [
    "df=list(set(x))\n",
    "print(len(x))\n",
    "print(len(df))"
   ]
  },
  {
   "cell_type": "code",
   "execution_count": null,
   "metadata": {},
   "outputs": [],
   "source": [
    "np.unique(x[10:],return_counts=True)"
   ]
  },
  {
   "cell_type": "code",
   "execution_count": null,
   "metadata": {
    "collapsed": true
   },
   "outputs": [],
   "source": [
    "ohc=np.eye(len(df))"
   ]
  },
  {
   "cell_type": "code",
   "execution_count": null,
   "metadata": {
    "collapsed": true
   },
   "outputs": [],
   "source": [
    "dicf={df[i]:i for i in range(len(df))}"
   ]
  },
  {
   "cell_type": "code",
   "execution_count": null,
   "metadata": {
    "collapsed": true
   },
   "outputs": [],
   "source": [
    "dicb={i:df[i] for i in range(len(df))}"
   ]
  },
  {
   "cell_type": "code",
   "execution_count": null,
   "metadata": {
    "collapsed": true
   },
   "outputs": [],
   "source": [
    "batch_size=64"
   ]
  },
  {
   "cell_type": "code",
   "execution_count": null,
   "metadata": {},
   "outputs": [],
   "source": [
    "a[115:115+batch_size]"
   ]
  },
  {
   "cell_type": "code",
   "execution_count": null,
   "metadata": {
    "collapsed": true
   },
   "outputs": [],
   "source": [
    "def gen_batch(r,size):\n",
    "    return np.array([ohc[dicf[k]] for k in x[r:(r+size+1)]])\n",
    "    "
   ]
  },
  {
   "cell_type": "code",
   "execution_count": null,
   "metadata": {},
   "outputs": [],
   "source": [
    "gen_batch(1,4)"
   ]
  },
  {
   "cell_type": "code",
   "execution_count": null,
   "metadata": {},
   "outputs": [],
   "source": [
    "RNN = layers.LSTM\n",
    "HIDDEN_SIZE = 64\n",
    "BATCH_SIZE = 128\n",
    "LAYERS = 1\n",
    "MAXLEN=batch_size\n",
    "print('Build model...')\n",
    "model = Sequential()\n",
    "\n",
    "model.add(RNN(HIDDEN_SIZE, input_shape=(MAXLEN, len(df)),return_sequences=False))\n",
    "\n",
    "model.add(layers.Dense(len(df)))\n",
    "model.add(layers.Activation('softmax'))\n",
    "model.compile(loss='categorical_crossentropy',\n",
    "              optimizer='adam',\n",
    "              metrics=['accuracy'])\n",
    "model.summary()"
   ]
  },
  {
   "cell_type": "code",
   "execution_count": null,
   "metadata": {
    "collapsed": true
   },
   "outputs": [],
   "source": []
  },
  {
   "cell_type": "code",
   "execution_count": null,
   "metadata": {},
   "outputs": [],
   "source": [
    "for h in range(10000):\n",
    "    X=[];Y=[]\n",
    "    for j in range(512):\n",
    "        bx=gen_batch(np.random.randint(len(x)-batch_size-1),batch_size)\n",
    "        by=bx[-1];bx=bx[:-1]\n",
    "        X.append(bx);Y.append(by);\n",
    "    \n",
    "    q=model.train_on_batch(x=np.array(X),y=np.array(Y))\n",
    "    if(h%100==0):\n",
    "        print(\"_____________\"+str(h//100)+\"% DONE\")\n",
    "        print(q)"
   ]
  },
  {
   "cell_type": "code",
   "execution_count": null,
   "metadata": {
    "collapsed": true
   },
   "outputs": [],
   "source": [
    "bx=np.array([bx]);"
   ]
  },
  {
   "cell_type": "code",
   "execution_count": null,
   "metadata": {
    "collapsed": true
   },
   "outputs": [],
   "source": [
    "acc=''\n",
    "for e in range(1000):\n",
    "    d=model.predict(batch_size=1,x=bx)\n",
    "    #d=1*(d>0.5)\n",
    "    acc=acc+dicb[np.argmax(d[0])]\n",
    "    if(len(acc)>20):\n",
    "        print(acc)\n",
    "        acc=''\n",
    "    \n",
    "    bx=np.array([np.concatenate([bx[0][1:],d[0].reshape((1,len(d[0])))])])"
   ]
  },
  {
   "cell_type": "code",
   "execution_count": null,
   "metadata": {
    "collapsed": true
   },
   "outputs": [],
   "source": [
    "d[0].shape"
   ]
  },
  {
   "cell_type": "code",
   "execution_count": null,
   "metadata": {
    "collapsed": true
   },
   "outputs": [],
   "source": [
    "bx.shape"
   ]
  },
  {
   "cell_type": "code",
   "execution_count": null,
   "metadata": {
    "collapsed": true
   },
   "outputs": [],
   "source": [
    "np.concatenate([d[0].reshape((1,14)),bx[0][:-1]]).shape"
   ]
  },
  {
   "cell_type": "code",
   "execution_count": null,
   "metadata": {
    "collapsed": true
   },
   "outputs": [],
   "source": []
  }
 ],
 "metadata": {
  "kernelspec": {
   "display_name": "Python 3",
   "language": "python",
   "name": "python3"
  },
  "language_info": {
   "codemirror_mode": {
    "name": "ipython",
    "version": 3
   },
   "file_extension": ".py",
   "mimetype": "text/x-python",
   "name": "python",
   "nbconvert_exporter": "python",
   "pygments_lexer": "ipython3",
   "version": "3.6.0"
  }
 },
 "nbformat": 4,
 "nbformat_minor": 2
}
